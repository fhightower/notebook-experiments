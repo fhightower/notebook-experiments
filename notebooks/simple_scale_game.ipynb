{
 "cells": [
  {
   "cell_type": "markdown",
   "id": "64c2d4ec-3138-4542-9794-a24d8b7c94d4",
   "metadata": {},
   "source": [
    "# Simple Scale Game"
   ]
  },
  {
   "cell_type": "code",
   "execution_count": 14,
   "id": "36a51bb4-830f-47ea-96b9-ec54acf51c50",
   "metadata": {},
   "outputs": [
    {
     "name": "stdout",
     "output_type": "stream",
     "text": [
      "And the winner is: player B\n"
     ]
    }
   ],
   "source": [
    "from typing import Optional, Tuple\n",
    "\n",
    "starting_marbles = 10\n",
    "starting_money = 10\n",
    "\n",
    "\n",
    "def final_money(scale) -> Tuple[int]:\n",
    "    scores = ((starting_marbles - scale[0]), (starting_marbles - scale[1]))\n",
    "    if scale[0] > scale[1]:\n",
    "        return (scores[0] + 100, scores[1])\n",
    "    elif scale[0] < scale[1]:\n",
    "        return (scores[0], scores[1] + 100)\n",
    "    else:\n",
    "        return (scores[0] + 50, scores[1] + 50)\n",
    "\n",
    "\n",
    "def winner(player_a_money, player_b_money) -> Optional[str]:\n",
    "    if player_a_money > player_b_money:\n",
    "        return 'a'\n",
    "    elif player_b_money > player_a_money:\n",
    "        return 'b'\n",
    "\n",
    "\n",
    "def place_marbles() -> int:\n",
    "    \"\"\"Determine how many numbers to play.\"\"\"\n",
    "    # these values are just demonstrative... we'll update them later\n",
    "    player_a_marbles = 5\n",
    "    player_b_marbles = 10\n",
    "\n",
    "    return player_a_marbles, player_b_marbles\n",
    "\n",
    "\n",
    "def play():\n",
    "    player_a_move, player_b_move = place_marbles()\n",
    "    scale = (player_a_move, player_b_move)\n",
    "    player_a_final_money, player_b_final_money = final_money(scale)\n",
    "    victor = winner(player_a_final_money, player_b_final_money)\n",
    "\n",
    "    if victor is not None:\n",
    "        print(f'And the winner is: player {victor.upper()}')\n",
    "    else:\n",
    "        print(f'It\\'s a tie!')\n",
    "\n",
    "\n",
    "play()"
   ]
  },
  {
   "cell_type": "code",
   "execution_count": null,
   "id": "30104786-4eac-44fa-b9bc-88250e4aeeac",
   "metadata": {},
   "outputs": [],
   "source": []
  },
  {
   "cell_type": "code",
   "execution_count": null,
   "id": "147fbca5-0d45-4af3-8578-ecf9f2d52606",
   "metadata": {},
   "outputs": [],
   "source": []
  }
 ],
 "metadata": {
  "kernelspec": {
   "display_name": "Python 3 (ipykernel)",
   "language": "python",
   "name": "python3"
  },
  "language_info": {
   "codemirror_mode": {
    "name": "ipython",
    "version": 3
   },
   "file_extension": ".py",
   "mimetype": "text/x-python",
   "name": "python",
   "nbconvert_exporter": "python",
   "pygments_lexer": "ipython3",
   "version": "3.9.1"
  }
 },
 "nbformat": 4,
 "nbformat_minor": 5
}
